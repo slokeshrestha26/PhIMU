{
 "cells": [
  {
   "cell_type": "code",
   "execution_count": 2,
   "metadata": {},
   "outputs": [],
   "source": [
    "import os\n",
    "import pandas as pd\n",
    "import librosa\n",
    "import glob\n",
    "import numpy as np\n",
    "import matplotlib.pyplot as plt\n",
    "from scipy.stats import pearsonr\n",
    "import scipy.stats as stats\n",
    "from sklearn.model_selection import train_test_split\n",
    "from sklearn.preprocessing import LabelEncoder\n",
    "from sklearn.model_selection import cross_val_score\n",
    "from sklearn.preprocessing import LabelEncoder\n",
    "from sklearn.metrics import confusion_matrix, ConfusionMatrixDisplay\n",
    "from sklearn.metrics import precision_score\n",
    "from sklearn.metrics import recall_score\n",
    "from sklearn.metrics import f1_score\n",
    "from sklearn.ensemble import RandomForestClassifier\n",
    "import warnings\n",
    "warnings.simplefilter(action='ignore', category=FutureWarning)\n"
   ]
  },
  {
   "cell_type": "code",
   "execution_count": 3,
   "metadata": {},
   "outputs": [],
   "source": [
    "def pre_process_audio(path, surface):\n",
    "    dfs = list()\n",
    "    wav_list = []\n",
    "    stft_list = []\n",
    "    activity_list = []\n",
    "    folder_list = []\n",
    "    start_time = 20\n",
    "    end_time = 55\n",
    "    N_FFT = 2048\n",
    "    HOP_SIZE = 1024\n",
    "    dfs = list()\n",
    "    dict_types = {'time':'float', 'dt':'float', 'x':'float', 'y':'float', 'z':'float'}\n",
    "\n",
    "    for root, dirs, files in os.walk(path, topdown=False):\n",
    "        for name in files:\n",
    "            #if name == 'Accelerometer.csv':\n",
    "            #    acc_path = os.path.join(root, name) \n",
    "            #    data = pd.read_csv(acc_path, names=['time', 'dt', 'z', 'y', 'x'], skiprows=[0], header=None, dtype = dict_types)\n",
    "            #    folder = acc_path.split('/')[1]\n",
    "            #    data['activity'] = folder.split('-')[0]\n",
    "            #    data['folder'] = folder\n",
    "            #    dfs.append(data)\n",
    "            if name == 'Microphone.caf':\n",
    "                mic_path = os.path.join(root, name)    \n",
    "                wav_data, sr = librosa.load(mic_path, sr=None, mono=True)\n",
    "                stft = librosa.amplitude_to_db(np.abs(librosa.stft(wav_data[start_time*sr:end_time*sr], n_fft=N_FFT, hop_length=HOP_SIZE, win_length=N_FFT,\n",
    "                                                                        window='hann', center=True, pad_mode='constant' )), ref=np.max)\n",
    "                folder = mic_path.split('/')[1]\n",
    "                folder_list.append(folder)\n",
    "                activity_list.append(folder.split('-')[0])\n",
    "                wav_list.append(wav_data[sr*start_time:sr*end_time])\n",
    "                stft_list.append(stft)\n",
    "                #data['stft'] = stft\n",
    "\n",
    "    #df = pd.concat(dfs, ignore_index=True)\n",
    "\n",
    "    df = pd.DataFrame()\n",
    "    df['activity'] = activity_list\n",
    "    df['folder'] = folder_list\n",
    "    df['wav_data'] = wav_list\n",
    "    df['stft'] = stft_list\n",
    "    \n",
    "    # surface from which data came\n",
    "    if surface=='table': \n",
    "        df = df[df.activity.str.contains('table')]\n",
    "    elif surface=='free':\n",
    "        df = df[df.activity.str.contains('lap') | df.activity.str.contains('free') | df.activity.str.contains('standing')]\n",
    "    elif surface == 'x': # x for don't care\n",
    "        # regroup activities \n",
    "        df['activity'] = df.activity.str.replace(r'_free$', '')\n",
    "        df['activity'] = df.activity.str.replace(r'_lap$', '')\n",
    "        df['activity'] = df.activity.str.replace(r'_table$', '')\n",
    "        df['activity'] = df.activity.str.replace(r'_standing$', '')\n",
    "\n",
    "    # save off specific holding and swiping activities\n",
    "    df_hold = df[df.activity.str.contains('hold')]\n",
    "    df_swipe = df[df.activity.str.contains('swipe')]\n",
    "\n",
    "    # group holding activities\n",
    "    df['activity'] = df.activity.str.replace(r'landscape_hold', 'hold')\n",
    "    df['activity'] = df.activity.str.replace(r'portrait_hold', 'hold')\n",
    "\n",
    "    # group tapping activities\n",
    "    df['activity'] = df.activity.str.replace(r'tap_portrait', 'tap')\n",
    "\n",
    "    # group swiping activities\n",
    "    df['activity'] = df.activity.str.replace(r'swipe_lr', 'swipe')\n",
    "    df['activity'] = df.activity.str.replace(r'swipe_rl', 'swipe')\n",
    "        \n",
    "    # drop holding activities\n",
    "    df = df[~df['activity'].str.contains('hold')]\n",
    "    df = df[~df['activity'].str.contains('call')]\n",
    "\n",
    "    df = df[~df['activity'].str.contains('swipe')]\n",
    "\n",
    "\n",
    "    return df\n"
   ]
  },
  {
   "cell_type": "code",
   "execution_count": 4,
   "metadata": {},
   "outputs": [],
   "source": [
    "def extract_features(df):\n",
    "    #X = pd.DataFrame()\n",
    "    y = df['activity']\n",
    "    X = np.asarray(df['stft'])\n",
    "    for i in range(0, X.shape[0]):\n",
    "        X[i] = X[i].flatten()\n",
    "    X = np.vstack(X)\n",
    "    return (X,y)"
   ]
  },
  {
   "cell_type": "code",
   "execution_count": 6,
   "metadata": {},
   "outputs": [
    {
     "name": "stdout",
     "output_type": "stream",
     "text": [
      "Random forest classifier: \n",
      "mean precision: 0.08333333333333333 mean recall: 0.5 mean F1 score: 0.14285714285714285 \n"
     ]
    },
    {
     "name": "stderr",
     "output_type": "stream",
     "text": [
      "/Users/az8797/miniforge3/envs/tensorflow-env/lib/python3.10/site-packages/sklearn/metrics/_classification.py:1344: UndefinedMetricWarning: Precision is ill-defined and being set to 0.0 in labels with no predicted samples. Use `zero_division` parameter to control this behavior.\n",
      "  _warn_prf(average, modifier, msg_start, len(result))\n"
     ]
    },
    {
     "data": {
      "image/png": "[encoded data removed]",
      "text/plain": [
       "<Figure size 640x480 with 2 Axes>"
      ]
     },
     "metadata": {},
     "output_type": "display_data"
    }
   ],
   "source": [
    "path = 'sensor_logger/'\n",
    "df = pre_process_audio(path, surface='x')\n",
    "\n",
    "folders_list = df['folder'].unique()\n",
    "# randomly select 10 folders for testing\n",
    "test_n = 6\n",
    "test_indices = np.random.choice(len(folders_list), test_n, replace=False)\n",
    "\n",
    "test_folders=[]\n",
    "for i in test_indices:\n",
    "    test_folders.append(folders_list[i])\n",
    "test_df = df[df['folder'].isin(test_folders)]\n",
    "X_test, y_test = extract_features(test_df)\n",
    "\n",
    "train_df = df[~df['folder'].isin(test_folders)]\n",
    "X_train, y_train = extract_features(train_df)\n",
    "\n",
    "rf = RandomForestClassifier(n_estimators=40)\n",
    "rf.fit(X_train, y_train)\n",
    "y_pred = rf.predict(X_test)\n",
    "precision = precision_score(y_test, y_pred, average='macro')\n",
    "recall = recall_score(y_test, y_pred, average='macro')\n",
    "f1_scores = f1_score(y_test, y_pred, average='macro')\n",
    "\n",
    "print(\"Random forest classifier: \")\n",
    "print(\"mean precision: {precision} mean recall: {recall} mean F1 score: {f1} \".format(recall=np.mean(recall), precision=np.mean(precision), f1=np.mean(f1_scores)))\n",
    "\n",
    "# plot confusion matrix\n",
    "labels = set(y_test).union(set(y_pred))\n",
    "\n",
    "cm = confusion_matrix(y_test, y_pred, normalize='true')\n",
    "disp = ConfusionMatrixDisplay(confusion_matrix=cm, display_labels=labels)\n",
    "disp.plot()\n",
    "plt.yticks(rotation='horizontal')\n",
    "plt.xticks(rotation='vertical')\n",
    "plt.show()"
   ]
  }
 ],
 "metadata": {
  "kernelspec": {
   "display_name": "Python 3.10.9 ('tensorflow-env')",
   "language": "python",
   "name": "python3"
  },
  "language_info": {
   "codemirror_mode": {
    "name": "ipython",
    "version": 3
   },
   "file_extension": ".py",
   "mimetype": "text/x-python",
   "name": "python",
   "nbconvert_exporter": "python",
   "pygments_lexer": "ipython3",
   "version": "3.10.9"
  },
  "orig_nbformat": 4,
  "vscode": {
   "interpreter": {
    "hash": "3d587497e4aa06d75995c0d3656f57535c4b9b8a388e5c07d65bef67261b939b"
   }
  }
 },
 "nbformat": 4,
 "nbformat_minor": 2
}
