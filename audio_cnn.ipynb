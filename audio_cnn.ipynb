{
 "cells": [
  {
   "cell_type": "code",
   "execution_count": 1,
   "metadata": {},
   "outputs": [],
   "source": [
    "import os\n",
    "import pandas as pd\n",
    "import librosa\n",
    "import librosa.display\n",
    "import glob\n",
    "import numpy as np\n",
    "import matplotlib.pyplot as plt\n",
    "from scipy.stats import pearsonr\n",
    "import scipy.stats as stats\n",
    "from sklearn.model_selection import train_test_split\n",
    "from sklearn.preprocessing import LabelEncoder\n",
    "from sklearn.model_selection import cross_val_score\n",
    "from sklearn.preprocessing import LabelEncoder\n",
    "from sklearn.metrics import confusion_matrix, ConfusionMatrixDisplay\n",
    "import tensorflow.keras as keras\n",
    "from tensorflow.keras.utils import to_categorical\n",
    "\n",
    "import warnings\n",
    "warnings.simplefilter(action='ignore', category=FutureWarning)"
   ]
  },
  {
   "cell_type": "code",
   "execution_count": 2,
   "metadata": {},
   "outputs": [],
   "source": [
    "path = 'sensor_logger'\n",
    "start_time = 15\n",
    "end_time = 55\n",
    "activity_list = []\n",
    "wav_list = []\n",
    "stft_list = []\n",
    "stft_mean_list = []\n",
    "stft_std_list = []\n",
    "zcr_list = []\n",
    "folder_list = []\n",
    "N_FFT = 4096\n",
    "HOP_SIZE = 1024\n",
    "for root, dirs, files in os.walk(path, topdown=False):\n",
    "    for name in files:\n",
    "        if name == 'Microphone.caf':\n",
    "            mic_path = os.path.join(root, name)    \n",
    "            if ('scroll' in root) | ('scrolling' in root):\n",
    "                wav_data, sr = librosa.load(mic_path, sr=None, mono=True)\n",
    "                stft = librosa.amplitude_to_db(np.abs(librosa.stft(wav_data[start_time*sr:end_time*sr], n_fft=N_FFT, hop_length=HOP_SIZE, win_length=N_FFT,\n",
    "                                                                        window='hann', center=True, pad_mode='constant' )), ref=np.max)\n",
    "                                                                        # N_FFT/2 number of frequency bins x number of frames t\n",
    "                folder = mic_path.split('/')[1]\n",
    "                folder_list.append(folder)\n",
    "                activity_list.append('scroll')\n",
    "                wav_list.append(wav_data[sr*start_time:sr*end_time])\n",
    "                stft_list.append(stft)\n",
    "                stft_mean_list.append(np.mean(stft, axis=0)) # axis=0 -> average across time bins, axis=1 -> average across frequency bins\n",
    "                stft_std_list.append(np.std(stft, axis=0))\n",
    "            elif ('swipe' in root) | ('swiping' in root):\n",
    "                wav_data, sr = librosa.load(mic_path, sr=None, mono=True)\n",
    "                stft = librosa.amplitude_to_db(np.abs(librosa.stft(wav_data[start_time*sr:end_time*sr], n_fft=N_FFT, hop_length=HOP_SIZE, win_length=N_FFT,\n",
    "                                                                        window='hann', center=True, pad_mode='constant' )), ref=np.max)\n",
    "                                                                        # N_FFT/2 number of frequency bins x number of frames t\n",
    "                folder = mic_path.split('/')[1]\n",
    "                folder_list.append(folder)\n",
    "                activity_list.append('swipe')\n",
    "                wav_list.append(wav_data[sr*start_time:sr*end_time])\n",
    "                stft_list.append(stft)\n",
    "                stft_mean_list.append(np.mean(stft, axis=0)) # axis=0 -> average across time bins, axis=1 -> average across frequency bins\n",
    "                stft_std_list.append(np.std(stft, axis=0))\n",
    "            \n",
    "            #elif ('tap' in root) | ('tapping' in root):\n",
    "            #    wav_data, sr = librosa.load(mic_path, sr=None, mono=True)\n",
    "            #    stft = librosa.amplitude_to_db(np.abs(librosa.stft(wav_data[start_time*sr:end_time*sr], n_fft=N_FFT, hop_length=HOP_SIZE, win_length=N_FFT,\n",
    "            #                                                            window='hann', center=True, pad_mode='constant' )), ref=np.max)\n",
    "            #                                                            # N_FFT/2 number of frequency bins x number of frames t\n",
    "            #    folder = mic_path.split('/')[1]\n",
    "            #    folder_list.append(folder)\n",
    "            #    activity_list.append('tap')\n",
    "            #    wav_list.append(wav_data[sr*start_time:sr*end_time])\n",
    "            #    stft_list.append(stft)\n",
    "            #    stft_mean_list.append(np.mean(stft, axis=0)) # axis=0 -> average across time bins, axis=1 -> average across frequency bins\n",
    "            #    stft_std_list.append(np.std(stft, axis=0))\n",
    "# 18 swipes, 13 taps, 9 scrolls "
   ]
  },
  {
   "cell_type": "code",
   "execution_count": 3,
   "metadata": {},
   "outputs": [],
   "source": [
    "label = LabelEncoder()\n",
    "y = label.fit_transform(activity_list)\n",
    "\n",
    "df = pd.DataFrame()\n",
    "df['classes'] = activity_list\n",
    "df['label'] = y\n",
    "df['wav_data'] = wav_list\n",
    "df['stft'] = stft_list\n",
    "\n",
    "# randomly undersample swipe classes by 9 samples to reduce class imbalance (class distribution is now 9/9 swipe/scroll respectively))\n",
    "remove_n = 9\n",
    "drop_indices = np.random.choice(df.index[df['classes'] == 'swipe'], remove_n, replace=False)\n",
    "df = df.drop(drop_indices)"
   ]
  },
  {
   "cell_type": "code",
   "execution_count": 4,
   "metadata": {},
   "outputs": [
    {
     "name": "stdout",
     "output_type": "stream",
     "text": [
      "(14, 2049, 1723, 1) (14, 2) (4, 2049, 1723, 1) (4, 2)\n"
     ]
    }
   ],
   "source": [
    "test_n=4 # 20% total available  clips\n",
    "\n",
    "# randomly select 4 clips to be test data\n",
    "test_indices = np.random.choice(df.index, test_n, replace=False) \n",
    "test_df = df.loc[test_indices]\n",
    "\n",
    "train_indices = np.setdiff1d(list(range(0,df.shape[0])),test_indices)\n",
    "train_df = df.drop(test_indices)\n",
    "\n",
    "train_data = np.dstack(train_df['stft'])\n",
    "train_data = np.reshape(train_data, (-1, train_data.shape[0], train_data.shape[1]))\n",
    "X_train = train_data[..., np.newaxis]\n",
    "\n",
    "test_data = np.dstack(test_df['stft'])\n",
    "test_data = np.reshape(test_data, (-1, test_data.shape[0], test_data.shape[1]))\n",
    "X_test = test_data[..., np.newaxis]\n",
    "\n",
    "train_labels = train_df.iloc[:,1].values\n",
    "test_labels = test_df.iloc[:,1].values\n",
    "\n",
    "y_train = to_categorical(train_labels, 2)\n",
    "y_test = to_categorical(test_labels, 2)\n",
    "\n",
    "print(X_train.shape, y_train.shape, X_test.shape, y_test.shape) #(14, 2049, 1723, 1) (14, 3) (4, 2049, 1723, 1) (4, 3)"
   ]
  },
  {
   "cell_type": "code",
   "execution_count": 5,
   "metadata": {},
   "outputs": [],
   "source": [
    "# build CNN for classification\n",
    "def create_model():\n",
    "    model = keras.Sequential()\n",
    "\n",
    "    # 1st conv layer\n",
    "    model.add(keras.layers.Conv2D(32, (3, 3), activation = 'relu', padding='same', input_shape = X_train[0].shape))\n",
    "    model.add(keras.layers.MaxPooling2D((3, 3), strides=(2, 2), padding='same'))\n",
    "    model.add(keras.layers.BatchNormalization())\n",
    "\n",
    "    # 2nd conv layer\n",
    "    model.add(keras.layers.Conv2D(32, (3, 3), activation='relu', padding='same'))\n",
    "    model.add(keras.layers.MaxPooling2D((3, 3), strides=(2, 2), padding='same'))\n",
    "    model.add(keras.layers.BatchNormalization())\n",
    "\n",
    "    # 3rd conv layer\n",
    "    model.add(keras.layers.Conv2D(16, (3, 3), activation='relu', padding='same'))\n",
    "    model.add(keras.layers.MaxPooling2D((3, 3), strides=(2, 2), padding='same'))\n",
    "    model.add(keras.layers.BatchNormalization())\n",
    "\n",
    "    # flatten output and feed it into dense layer\n",
    "    model.add(keras.layers.Flatten())\n",
    "    model.add(keras.layers.Dense(64, activation='relu'))\n",
    "    model.add(keras.layers.Dropout(0.3))\n",
    "\n",
    "    model.add(keras.layers.Dense(32, activation='relu'))\n",
    "    model.add(keras.layers.Dropout(0.3))\n",
    "\n",
    "    # output layer\n",
    "    model.add(keras.layers.Dense(2, activation='softmax'))\n",
    "    return model"
   ]
  },
  {
   "cell_type": "code",
   "execution_count": 6,
   "metadata": {},
   "outputs": [
    {
     "name": "stdout",
     "output_type": "stream",
     "text": [
      "Epoch 1/10\n"
     ]
    },
    {
     "name": "stderr",
     "output_type": "stream",
     "text": [
      "2023-03-25 17:40:21.150894: W tensorflow/tsl/platform/profile_utils/cpu_utils.cc:128] Failed to get CPU frequency: 0 Hz\n"
     ]
    }
   ],
   "source": [
    "callback = keras.callbacks.EarlyStopping(monitor='val_precision', patience=5)\n",
    "model = create_model()\n",
    "model.compile(loss='categorical_crossentropy', optimizer='adam',metrics=[keras.metrics.Recall(), keras.metrics.Precision()])\n",
    "history = model.fit(X_train, y_train, epochs = 10, validation_data=(X_test, y_test), callbacks=[callback], verbose=1)"
   ]
  }
 ],
 "metadata": {
  "kernelspec": {
   "display_name": "Python 3.10.9 ('tensorflow-env')",
   "language": "python",
   "name": "python3"
  },
  "language_info": {
   "codemirror_mode": {
    "name": "ipython",
    "version": 3
   },
   "file_extension": ".py",
   "mimetype": "text/x-python",
   "name": "python",
   "nbconvert_exporter": "python",
   "pygments_lexer": "ipython3",
   "version": "3.10.9"
  },
  "orig_nbformat": 4,
  "vscode": {
   "interpreter": {
    "hash": "3d587497e4aa06d75995c0d3656f57535c4b9b8a388e5c07d65bef67261b939b"
   }
  }
 },
 "nbformat": 4,
 "nbformat_minor": 2
}
